{
 "cells": [
  {
   "cell_type": "code",
   "execution_count": 16,
   "metadata": {},
   "outputs": [],
   "source": [
    "import os\n",
    "import numpy as np\n"
   ]
  },
  {
   "cell_type": "code",
   "execution_count": 18,
   "metadata": {
    "collapsed": true
   },
   "outputs": [],
   "source": [
    "import fullrmc as fullrmc\n",
    "from fullrmc.Engine import Engine\n",
    "from fullrmc.Constraints.PairDistributionConstraints import PairDistributionConstraint\n",
    "from fullrmc.Constraints.DistanceConstraints import InterMolecularDistanceConstraint\n",
    "from fullrmc.Constraints.BondConstraints import BondConstraint\n",
    "from fullrmc.Constraints.AngleConstraints import BondsAngleConstraint\n",
    "from fullrmc.Constraints.ImproperAngleConstraints import ImproperAngleConstraint\n",
    "from fullrmc.Core.MoveGenerator import MoveGeneratorCollector\n",
    "from fullrmc.Generators.Translations import TranslationGenerator, TranslationAlongSymmetryAxisGenerator\n",
    "from fullrmc.Generators.Rotations import RotationGenerator, RotationAboutSymmetryAxisGenerator"
   ]
  },
  {
   "cell_type": "code",
   "execution_count": 23,
   "metadata": {},
   "outputs": [
    {
     "name": "stdout",
     "output_type": "stream",
     "text": [
      "/home/dn/anaconda3/lib/python3.6/site-packages/fullrmc/Examples/improperConstraint\n",
      "/home/dn/anaconda3/lib/python3.6/site-packages/fullrmc/Examples/MLSelection\n",
      "/home/dn/anaconda3/lib/python3.6/site-packages/fullrmc/Examples/multicoreBenchmark\n",
      "/home/dn/anaconda3/lib/python3.6/site-packages/fullrmc/Examples/SiOxNanosphere\n",
      "/home/dn/anaconda3/lib/python3.6/site-packages/fullrmc/Examples/explore\n",
      "/home/dn/anaconda3/lib/python3.6/site-packages/fullrmc/Examples/anglesConstraint\n",
      "/home/dn/anaconda3/lib/python3.6/site-packages/fullrmc/Examples/docking\n",
      "/home/dn/anaconda3/lib/python3.6/site-packages/fullrmc/Examples/frames\n",
      "/home/dn/anaconda3/lib/python3.6/site-packages/fullrmc/Examples/rotations\n",
      "/home/dn/anaconda3/lib/python3.6/site-packages/fullrmc/Examples/refine\n",
      "/home/dn/anaconda3/lib/python3.6/site-packages/fullrmc/Examples/__pycache__\n",
      "/home/dn/anaconda3/lib/python3.6/site-packages/fullrmc/Examples/translations\n",
      "/home/dn/anaconda3/lib/python3.6/site-packages/fullrmc/Examples/removes\n",
      "/home/dn/anaconda3/lib/python3.6/site-packages/fullrmc/Examples/agitations\n",
      "/home/dn/anaconda3/lib/python3.6/site-packages/fullrmc/Examples/dihedralConstraint\n",
      "/home/dn/anaconda3/lib/python3.6/site-packages/fullrmc/Examples/benchmark\n",
      "/home/dn/anaconda3/lib/python3.6/site-packages/fullrmc/Examples/SiOxNanosphereDistribution\n",
      "/home/dn/anaconda3/lib/python3.6/site-packages/fullrmc/Examples/bondsConstraint\n",
      "/home/dn/anaconda3/lib/python3.6/site-packages/fullrmc/Examples/atomicNiTi\n",
      "/home/dn/anaconda3/lib/python3.6/site-packages/fullrmc/Examples/exploreCO2\n",
      "/home/dn/anaconda3/lib/python3.6/site-packages/fullrmc/Examples/coordNumConstraint\n",
      "/home/dn/anaconda3/lib/python3.6/site-packages/fullrmc/Examples/molecularTHF\n"
     ]
    }
   ],
   "source": [
    "fullrmc.Examples.print_available_examples()"
   ]
  },
  {
   "cell_type": "code",
   "execution_count": 24,
   "metadata": {},
   "outputs": [
    {
     "ename": "NameError",
     "evalue": "name 'basestring' is not defined",
     "output_type": "error",
     "traceback": [
      "\u001b[0;31m---------------------------------------------------------------------------\u001b[0m",
      "\u001b[0;31mNameError\u001b[0m                                 Traceback (most recent call last)",
      "\u001b[0;32m<ipython-input-24-8713038ce110>\u001b[0m in \u001b[0;36m<module>\u001b[0;34m()\u001b[0m\n\u001b[1;32m      1\u001b[0m \u001b[0;32mfrom\u001b[0m \u001b[0mfullrmc\u001b[0m\u001b[0;34m.\u001b[0m\u001b[0mExamples\u001b[0m \u001b[0;32mimport\u001b[0m \u001b[0mfind_example\u001b[0m\u001b[0;34m\u001b[0m\u001b[0m\n\u001b[1;32m      2\u001b[0m \u001b[0;31m# search for an examples. e.g. atomicNiTi\u001b[0m\u001b[0;34m\u001b[0m\u001b[0;34m\u001b[0m\u001b[0m\n\u001b[0;32m----> 3\u001b[0;31m \u001b[0mprint\u001b[0m\u001b[0;34m(\u001b[0m\u001b[0mfind_example\u001b[0m\u001b[0;34m(\u001b[0m\u001b[0;34m'SiOxNanosphere'\u001b[0m\u001b[0;34m)\u001b[0m\u001b[0;34m)\u001b[0m\u001b[0;34m\u001b[0m\u001b[0m\n\u001b[0m",
      "\u001b[0;32m~/anaconda3/lib/python3.6/site-packages/fullrmc/Examples/__init__.py\u001b[0m in \u001b[0;36mfind_example\u001b[0;34m(name)\u001b[0m\n\u001b[1;32m     42\u001b[0m \u001b[0;34m\u001b[0m\u001b[0m\n\u001b[1;32m     43\u001b[0m \u001b[0;32mdef\u001b[0m \u001b[0mfind_example\u001b[0m\u001b[0;34m(\u001b[0m\u001b[0mname\u001b[0m\u001b[0;34m)\u001b[0m\u001b[0;34m:\u001b[0m\u001b[0;34m\u001b[0m\u001b[0m\n\u001b[0;32m---> 44\u001b[0;31m     \u001b[0;32mif\u001b[0m \u001b[0;32mnot\u001b[0m \u001b[0misinstance\u001b[0m\u001b[0;34m(\u001b[0m\u001b[0mname\u001b[0m\u001b[0;34m,\u001b[0m \u001b[0mbasestring\u001b[0m\u001b[0;34m)\u001b[0m\u001b[0;34m:\u001b[0m\u001b[0;34m\u001b[0m\u001b[0m\n\u001b[0m\u001b[1;32m     45\u001b[0m         \u001b[0;32mreturn\u001b[0m \u001b[0;32mNone\u001b[0m\u001b[0;34m\u001b[0m\u001b[0m\n\u001b[1;32m     46\u001b[0m     \u001b[0mname\u001b[0m \u001b[0;34m=\u001b[0m \u001b[0mstr\u001b[0m\u001b[0;34m(\u001b[0m\u001b[0mname\u001b[0m\u001b[0;34m)\u001b[0m\u001b[0;34m\u001b[0m\u001b[0m\n",
      "\u001b[0;31mNameError\u001b[0m: name 'basestring' is not defined"
     ]
    }
   ],
   "source": [
    "from fullrmc.Examples import find_example\n",
    "# search for an examples. e.g. atomicNiTi\n",
    "print(find_example('SiOxNanosphere'))\n"
   ]
  },
  {
   "cell_type": "code",
   "execution_count": null,
   "metadata": {
    "collapsed": true
   },
   "outputs": [],
   "source": []
  }
 ],
 "metadata": {
  "kernelspec": {
   "display_name": "Python 3",
   "language": "python",
   "name": "python3"
  },
  "language_info": {
   "codemirror_mode": {
    "name": "ipython",
    "version": 3
   },
   "file_extension": ".py",
   "mimetype": "text/x-python",
   "name": "python",
   "nbconvert_exporter": "python",
   "pygments_lexer": "ipython3",
   "version": "3.6.3"
  }
 },
 "nbformat": 4,
 "nbformat_minor": 2
}
